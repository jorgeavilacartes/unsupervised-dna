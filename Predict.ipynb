{
 "cells": [
  {
   "cell_type": "markdown",
   "id": "f6a38f97-8c71-4f8e-a0f3-9281ad8773b3",
   "metadata": {},
   "source": [
    "## Cargar `encoder`"
   ]
  },
  {
   "cell_type": "code",
   "execution_count": 1,
   "id": "b72d0396-c74a-4a72-87aa-4e5740809525",
   "metadata": {},
   "outputs": [],
   "source": [
    "import numpy as np\n",
    "aux = np.random.rand(1,128,128,1) # (batch, height, width, channel)"
   ]
  },
  {
   "cell_type": "code",
   "execution_count": 2,
   "id": "06470dc8-029e-4c71-9998-d62b35f8cef6",
   "metadata": {},
   "outputs": [
    {
     "name": "stderr",
     "output_type": "stream",
     "text": [
      "2021-09-14 14:56:18.615396: W tensorflow/stream_executor/platform/default/dso_loader.cc:64] Could not load dynamic library 'libcudart.so.11.0'; dlerror: libcudart.so.11.0: cannot open shared object file: No such file or directory\n",
      "2021-09-14 14:56:18.615435: I tensorflow/stream_executor/cuda/cudart_stub.cc:29] Ignore above cudart dlerror if you do not have a GPU set up on your machine.\n"
     ]
    }
   ],
   "source": [
    "import tensorflow as tf\n",
    "from unsupervised_dna import ModelLoader, LoadImageEncoder"
   ]
  },
  {
   "cell_type": "code",
   "execution_count": 3,
   "id": "6513d479-9559-4e3c-8a79-2266d438b7ca",
   "metadata": {},
   "outputs": [],
   "source": [
    "loader = ModelLoader()"
   ]
  },
  {
   "cell_type": "code",
   "execution_count": 4,
   "id": "5f2fecf0-4c19-4242-b29b-b1aa4474d6c0",
   "metadata": {},
   "outputs": [
    {
     "name": "stderr",
     "output_type": "stream",
     "text": [
      "2021-09-14 14:56:23.468491: W tensorflow/stream_executor/platform/default/dso_loader.cc:64] Could not load dynamic library 'libcuda.so.1'; dlerror: libcuda.so.1: cannot open shared object file: No such file or directory\n",
      "2021-09-14 14:56:23.468532: W tensorflow/stream_executor/cuda/cuda_driver.cc:269] failed call to cuInit: UNKNOWN ERROR (303)\n",
      "2021-09-14 14:56:23.468557: I tensorflow/stream_executor/cuda/cuda_diagnostics.cc:156] kernel driver does not appear to be running on this host (Koke): /proc/driver/nvidia/version does not exist\n",
      "2021-09-14 14:56:23.468767: I tensorflow/core/platform/cpu_feature_guard.cc:142] This TensorFlow binary is optimized with oneAPI Deep Neural Network Library (oneDNN) to use the following CPU instructions in performance-critical operations:  AVX2 FMA\n",
      "To enable them in other operations, rebuild TensorFlow with the appropriate compiler flags.\n"
     ]
    },
    {
     "name": "stdout",
     "output_type": "stream",
     "text": [
      "\n",
      " **load model weights_path** : checkpoint/cp.ckpt\n",
      "\n",
      "**Model created**\n"
     ]
    }
   ],
   "source": [
    "vae = loader(\"vae_7mer\", weights_path = \"checkpoint/cp.ckpt\")\n",
    "\n",
    "encoder = tf.keras.Model(\n",
    "                   inputs=vae.input,\n",
    "                   outputs=vae.layers[1].output\n",
    "        )"
   ]
  },
  {
   "cell_type": "code",
   "execution_count": 5,
   "id": "c380ef7c-98e3-4bd5-933d-a582632b39cd",
   "metadata": {},
   "outputs": [],
   "source": [
    "#[(layer.output, layer) for layer in model.layers]  "
   ]
  },
  {
   "cell_type": "markdown",
   "id": "e28fd876-68c6-4641-9395-00affed0bcdd",
   "metadata": {},
   "source": [
    "### random example"
   ]
  },
  {
   "cell_type": "code",
   "execution_count": 6,
   "id": "5ce36097-f6ad-498a-bc08-9be8ebec8719",
   "metadata": {},
   "outputs": [],
   "source": [
    "output = encoder(aux)\n",
    "z_mean, z_var, z_sample = output"
   ]
  },
  {
   "cell_type": "code",
   "execution_count": 7,
   "id": "e5fbd0e5-ccaa-4ee6-b610-04a598103e60",
   "metadata": {},
   "outputs": [
    {
     "data": {
      "text/plain": [
       "array([[-0.00076576,  0.00388247, -0.0055711 ]], dtype=float32)"
      ]
     },
     "execution_count": 7,
     "metadata": {},
     "output_type": "execute_result"
    }
   ],
   "source": [
    "z_mean.numpy()"
   ]
  },
  {
   "cell_type": "markdown",
   "id": "8cb85e57-61d4-4d89-bc4b-696b0f225c34",
   "metadata": {},
   "source": [
    "### img example"
   ]
  },
  {
   "cell_type": "code",
   "execution_count": 8,
   "id": "181e53a1-3b04-46fc-961a-8e9e4a411755",
   "metadata": {},
   "outputs": [],
   "source": [
    "encoder_img = LoadImageEncoder(128,128)"
   ]
  },
  {
   "cell_type": "code",
   "execution_count": 9,
   "id": "fffce390-6729-4a3e-9048-370366df009a",
   "metadata": {},
   "outputs": [],
   "source": [
    "img = encoder_img(file_path=\"data/fcgr-7-mer/00000-hCoV-19_Australia_NT12_2020|2020-03-25|2020-04-17.jpg\")"
   ]
  },
  {
   "cell_type": "code",
   "execution_count": 10,
   "id": "341b5871-989f-465f-968f-7393a1d5486a",
   "metadata": {},
   "outputs": [
    {
     "data": {
      "text/plain": [
       "[<tf.Tensor: shape=(1, 3), dtype=float32, numpy=array([[ 6.4424047e-04,  5.3554035e-05, -1.1291959e-04]], dtype=float32)>,\n",
       " <tf.Tensor: shape=(1, 3), dtype=float32, numpy=array([[-0.00475141, -0.00127108, -0.00178111]], dtype=float32)>,\n",
       " <tf.Tensor: shape=(1, 3), dtype=float32, numpy=array([[ 0.47035474, -1.2880545 ,  1.3038085 ]], dtype=float32)>]"
      ]
     },
     "execution_count": 10,
     "metadata": {},
     "output_type": "execute_result"
    }
   ],
   "source": [
    "encoder(tf.expand_dims(img/255., axis=0, name=\"batch\"))"
   ]
  },
  {
   "cell_type": "markdown",
   "id": "ce97434a-22b4-460b-a230-7039bef33cb2",
   "metadata": {},
   "source": [
    "### with tf.data API example\n",
    "___"
   ]
  },
  {
   "cell_type": "code",
   "execution_count": 14,
   "id": "65f1c8d2-a364-49f0-9662-3fbf545ed107",
   "metadata": {},
   "outputs": [],
   "source": [
    "from unsupervised_dna import (\n",
    "    LoadImageEncoder,\n",
    "    DatasetEncoder,\n",
    "    MonitorValues,\n",
    ")"
   ]
  },
  {
   "cell_type": "code",
   "execution_count": 15,
   "id": "720825d7-c8ff-479f-a820-7a19a80db4a3",
   "metadata": {},
   "outputs": [
    {
     "name": "stdout",
     "output_type": "stream",
     "text": [
      "dataset loaded from: data/fcgr-7-mer | Total files: 27514\n"
     ]
    }
   ],
   "source": [
    "ds_encoder = DatasetEncoder(data_dir=\"data/fcgr-7-mer\", batch_size=1, kmer=7)"
   ]
  },
  {
   "cell_type": "code",
   "execution_count": 13,
   "id": "657df534-48b8-4708-ad9b-71cf2c646aa4",
   "metadata": {},
   "outputs": [
    {
     "ename": "AttributeError",
     "evalue": "'MapDataset' object has no attribute 'ds'",
     "output_type": "error",
     "traceback": [
      "\u001b[0;31m---------------------------------------------------------------------------\u001b[0m",
      "\u001b[0;31mAttributeError\u001b[0m                            Traceback (most recent call last)",
      "\u001b[0;32m/tmp/ipykernel_6503/1618471858.py\u001b[0m in \u001b[0;36m<module>\u001b[0;34m\u001b[0m\n\u001b[1;32m      1\u001b[0m \u001b[0mds_test\u001b[0m \u001b[0;34m=\u001b[0m \u001b[0mds_encoder\u001b[0m\u001b[0;34m(\u001b[0m\u001b[0;34m)\u001b[0m\u001b[0;34m\u001b[0m\u001b[0;34m\u001b[0m\u001b[0m\n\u001b[0;32m----> 2\u001b[0;31m \u001b[0;32mfor\u001b[0m \u001b[0mf\u001b[0m \u001b[0;32min\u001b[0m \u001b[0mds_test\u001b[0m\u001b[0;34m.\u001b[0m\u001b[0mds\u001b[0m\u001b[0;34m.\u001b[0m\u001b[0mtake\u001b[0m\u001b[0;34m(\u001b[0m\u001b[0;36m5\u001b[0m\u001b[0;34m)\u001b[0m\u001b[0;34m:\u001b[0m\u001b[0;34m\u001b[0m\u001b[0;34m\u001b[0m\u001b[0m\n\u001b[0m\u001b[1;32m      3\u001b[0m     \u001b[0mprint\u001b[0m\u001b[0;34m(\u001b[0m\u001b[0mf\u001b[0m\u001b[0;34m.\u001b[0m\u001b[0mnumpy\u001b[0m\u001b[0;34m(\u001b[0m\u001b[0;34m)\u001b[0m\u001b[0;34m)\u001b[0m\u001b[0;34m\u001b[0m\u001b[0;34m\u001b[0m\u001b[0m\n",
      "\u001b[0;31mAttributeError\u001b[0m: 'MapDataset' object has no attribute 'ds'"
     ]
    }
   ],
   "source": [
    "ds_test = ds_encoder()\n",
    "for f in ds_test.ds.take(5):\n",
    "    print(f.numpy())"
   ]
  },
  {
   "cell_type": "code",
   "execution_count": null,
   "id": "d3cee36d-5561-4d84-b4fe-fe39bb336062",
   "metadata": {},
   "outputs": [],
   "source": [
    "iter_test = iter(ds_test)"
   ]
  },
  {
   "cell_type": "code",
   "execution_count": null,
   "id": "e046ab91-e7bd-44b6-8cea-4f7342b5738e",
   "metadata": {},
   "outputs": [],
   "source": [
    "img = next(iter_test)"
   ]
  },
  {
   "cell_type": "code",
   "execution_count": null,
   "id": "ce81f866-2625-468a-aa8d-0028b75f5190",
   "metadata": {},
   "outputs": [],
   "source": [
    "encoder(img)"
   ]
  },
  {
   "cell_type": "code",
   "execution_count": 16,
   "id": "264ced1f-b224-4df3-88e7-66eaf8d41f8f",
   "metadata": {},
   "outputs": [
    {
     "data": {
      "text/plain": [
       "<ShuffleDataset shapes: (), types: tf.string>"
      ]
     },
     "execution_count": 16,
     "metadata": {},
     "output_type": "execute_result"
    }
   ],
   "source": [
    "ds_encoder.ds"
   ]
  },
  {
   "cell_type": "code",
   "execution_count": 17,
   "id": "aeb561c4-4620-4494-a1a5-970361d3c304",
   "metadata": {},
   "outputs": [],
   "source": [
    "from pathlib import Path\n",
    "DATA_DIR = Path(\"data/fcgr-7-mer\") # image directory\n",
    "LIST_IMG = DATA_DIR.rglob(\"*.jpg\")\n"
   ]
  },
  {
   "cell_type": "code",
   "execution_count": null,
   "id": "811af376-ab3a-422e-a783-b48260c663b9",
   "metadata": {},
   "outputs": [],
   "source": []
  },
  {
   "cell_type": "code",
   "execution_count": null,
   "id": "9b4ebdad-9617-4010-84f8-7d60df2032d2",
   "metadata": {},
   "outputs": [],
   "source": []
  }
 ],
 "metadata": {
  "kernelspec": {
   "display_name": "Python 3 (ipykernel)",
   "language": "python",
   "name": "python3"
  },
  "language_info": {
   "codemirror_mode": {
    "name": "ipython",
    "version": 3
   },
   "file_extension": ".py",
   "mimetype": "text/x-python",
   "name": "python",
   "nbconvert_exporter": "python",
   "pygments_lexer": "ipython3",
   "version": "3.8.10"
  }
 },
 "nbformat": 4,
 "nbformat_minor": 5
}
